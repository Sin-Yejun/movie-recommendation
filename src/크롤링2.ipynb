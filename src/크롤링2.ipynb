{
 "cells": [
  {
   "cell_type": "code",
   "execution_count": 1,
   "id": "a5ffc597-24a4-4fad-8282-6fb7309af93e",
   "metadata": {
    "tags": []
   },
   "outputs": [],
   "source": [
    "from selenium import webdriver\n",
    "from selenium.webdriver.common.by import By\n",
    "from selenium.webdriver.common.action_chains import ActionChains\n",
    "import time"
   ]
  },
  {
   "cell_type": "code",
   "execution_count": 10,
   "id": "e374c5f1-e847-471b-9b65-4aeae6cf9482",
   "metadata": {
    "tags": []
   },
   "outputs": [],
   "source": [
    "lst = []"
   ]
  },
  {
   "cell_type": "markdown",
   "id": "36d48997-871a-494e-8284-f88e14ccc706",
   "metadata": {
    "tags": []
   },
   "source": [
    "# 이매큘레이트"
   ]
  },
  {
   "cell_type": "code",
   "execution_count": 3,
   "id": "124bf4d7-18a5-4649-93a1-1833d21ebd8d",
   "metadata": {},
   "outputs": [],
   "source": [
    "name = '이매큘레이트'"
   ]
  },
  {
   "cell_type": "code",
   "execution_count": 4,
   "id": "8a7d3026-338a-4082-9ac5-2a5a5e7714ed",
   "metadata": {
    "tags": []
   },
   "outputs": [],
   "source": [
    "# 1. 웹 브라우저 드라이버 설정\n",
    "driver = webdriver.Chrome()"
   ]
  },
  {
   "cell_type": "code",
   "execution_count": 5,
   "id": "cdeaedc4-81a0-446e-ac9f-d955cfdbea16",
   "metadata": {
    "tags": []
   },
   "outputs": [],
   "source": [
    "# 2. 웹 페이지 열기\n",
    "driver.get('https://search.naver.com/search.naver?where=nexearch&sm=tab_etc&mra=bkEw&pkid=68&os=34103125&qvt=0&query=%EC%9D%B4%EB%A7%A4%ED%81%98%EB%A0%88%EC%9D%B4%ED%8A%B8%20%EA%B4%80%EB%9E%8C%ED%8F%89')\n",
    "time.sleep(3)"
   ]
  },
  {
   "cell_type": "code",
   "execution_count": 6,
   "id": "eda8e2d3-3751-4e5f-b133-7db69982fa65",
   "metadata": {
    "tags": []
   },
   "outputs": [],
   "source": [
    "# 3. 스크롤할 특정 요소 찾기\n",
    "\n",
    "driver.find_element(By.XPATH, '//ul/li/a/span[contains(text(), \"실관람객\")]').click()\n",
    "\n",
    "scrollable_div = driver.find_element(By.XPATH, '//*[@id=\"main_pack\"]/div[3]/div[2]/div/div/div[4]/div[4]')"
   ]
  },
  {
   "cell_type": "markdown",
   "id": "7110e265-8f27-4b89-930e-9ced643445f2",
   "metadata": {},
   "source": [
    "## 실관람객"
   ]
  },
  {
   "cell_type": "code",
   "execution_count": 7,
   "id": "c793f957-91ab-4b7e-a533-50b46ce9becd",
   "metadata": {
    "tags": []
   },
   "outputs": [],
   "source": [
    "while True:\n",
    "    actions = ActionChains(driver)\n",
    "    actions.move_to_element(scrollable_div).perform()\n",
    "\n",
    "    last_scroll_top = driver.execute_script(\"return arguments[0].scrollTop;\", scrollable_div)\n",
    "\n",
    "    driver.execute_script(\"arguments[0].scrollTop += arguments[0].offsetHeight;\", scrollable_div)\n",
    "\n",
    "    new_scroll_top = driver.execute_script(\"return arguments[0].scrollTop;\", scrollable_div)\n",
    "\n",
    "    if new_scroll_top == last_scroll_top:\n",
    "        break"
   ]
  },
  {
   "cell_type": "code",
   "execution_count": 11,
   "id": "d90797d1-876b-4eba-bea1-8ef236c34a9b",
   "metadata": {
    "tags": []
   },
   "outputs": [],
   "source": [
    "i = 1\n",
    "last = []\n",
    "\n",
    "while True:\n",
    "    try:\n",
    "        driver.find_element(By.XPATH, f'//*[@id=\"main_pack\"]/div[3]/div[2]/div/div/div[4]/div[4]/ul/li[{i}]/div[2]/div/button').click()\n",
    "    except Exception as e:\n",
    "        pass\n",
    "\n",
    "    items = scrollable_div.find_elements(By.XPATH, f'//*[@id=\"main_pack\"]/div[3]/div[2]/div/div/div[4]/div[4]/ul/li[{i}]/div[2]/div/span[2]')\n",
    "    scores = scrollable_div.find_elements(By.XPATH, f'//*[@id=\"main_pack\"]/div[3]/div[2]/div/div/div[4]/div[4]/ul/li[{i}]/div[1]/div/div[2]')\n",
    "\n",
    "    for j in items:\n",
    "        item = j.text\n",
    "        \n",
    "    for j in scores:\n",
    "        score = float(j.text.split('\\n')[-1])\n",
    "        \n",
    "    if last != [score, item]:\n",
    "        last = [score, item]\n",
    "        lst.append([name, '실관람객',score, item])\n",
    "        i += 1\n",
    "    else:\n",
    "        break"
   ]
  },
  {
   "cell_type": "code",
   "execution_count": 12,
   "id": "59f140d6",
   "metadata": {},
   "outputs": [
    {
     "name": "stdout",
     "output_type": "stream",
     "text": [
      "[['이매큘레이트', '실관람객', 5.0, '\"오멘:저주의 시작\"이 생각나는 부분이 몇군데 있는데 전체적으로 오컬트 요소는 거의 없어요.지루하진 않은데 재밌다고는 못하겠네요.'], ['이매큘레이트', '실관람객', 10.0, '풍성하게 넣어준 점프스퀘어 후,역대급으로 불경하고 당황스러운 발상을 보여준다.시드니 스위니는 정말 모질게 고생한다'], ['이매큘레이트', '실관람객', 7.0, '시드니스위니의 연기가 영화 전체를 압도하는 느낌'], ['이매큘레이트', '실관람객', 10.0, '메가박스 2인석 28000원 말곤 개봉하는곳이 없어서 2.8만 주고 혼자 봤는데 넘비쌈 스토리 이런건 모르겠고 재미는 있음'], ['이매큘레이트', '실관람객', 5.0, '예측되는 스토리, 이렇게까지 해야 하나 싶은 엔딩.'], ['이매큘레이트', '실관람객', 4.0, '재밌게 잘... 못 봤습니다...'], ['이매큘레이트', '실관람객', 8.0, '예상과는 조금 다른 방향으로 흘러가는 공포. 시드니 스위니의 열연은 돋보였다.'], ['이매큘레이트', '실관람객', 8.0, '영화 잘 봤습니다 재밌네요'], ['이매큘레이트', '실관람객', 10.0, '내용 연기 모두 좋았어요.'], ['이매큘레이트', '실관람객', 8.0, '재미있어요재미있어요'], ['이매큘레이트', '실관람객', 5.0, '그냥저냥 좀 아쉬운영화'], ['이매큘레이트', '실관람객', 8.0, '적당적당히 볼만한 공포영화로 오멘과 비슷한 느낌'], ['이매큘레이트', '실관람객', 10.0, '재밌읍니다재밌읍니다'], ['이매큘레이트', '실관람객', 9.0, ''], ['이매큘레이트', '실관람객', 8.0, '이매큘레이트 이매큘레이트'], ['이매큘레이트', '실관람객', 10.0, '공포영화는 역시 영화관에서'], ['이매큘레이트', '실관람객', 6.0, '공포영화에 기대한정도로 본거같아요'], ['이매큘레이트', '실관람객', 8.0, '생각보디 재밌었어요 연출이 깔끔해요'], ['이매큘레이트', '실관람객', 7.0, ''], ['이매큘레이트', '실관람객', 10.0, '스포일러가 포함된 감상평입니다. 감상평보기'], ['이매큘레이트', '실관람객', 6.0, '스포일러가 포함된 감상평입니다. 감상평보기'], ['이매큘레이트', '실관람객', 2.0, '극장에서 본 최악의 영화'], ['이매큘레이트', '실관람객', 5.0, '재밌게 잘 봤습니다~!'], ['이매큘레이트', '실관람객', 2.0, '여주 연기가 그나마 살린'], ['이매큘레이트', '실관람객', 6.0, '성스러운 잉태를 모방하는건, 파멸.'], ['이매큘레이트', '실관람객', 6.0, '스페셜 티켓 잘 챙겼어요 하하'], ['이매큘레이트', '실관람객', 6.0, '그냥볼만한공포영화시다볼만하다'], ['이매큘레이트', '실관람객', 6.0, '(깜빡하고 못 봤다...)'], ['이매큘레이트', '실관람객', 5.0, '시드니 스위니의 연기력이 계속 늘어가네요.'], ['이매큘레이트', '실관람객', 6.0, '기대 안하고 갔는데 그냥 타임킬링용으로 볼만했음'], ['이매큘레이트', '실관람객', 10.0, '보세요.진짜 어마어마함.대단하다.'], ['이매큘레이트', '실관람객', 1.0, '오컬트 요소는 없고 스토리가 이상함'], ['이매큘레이트', '실관람객', 4.0, '주연 여배우가 연기를 잘했는데 이전에 본 퍼스트 오멘이 많이 겹쳐보여서 아쉬웠습니다.'], ['이매큘레이트', '실관람객', 10.0, '구우웃구우웃구우우웃'], ['이매큘레이트', '실관람객', 7.0, '나올때는 귀가 멍멍할 것이야'], ['이매큘레이트', '실관람객', 7.0, '공포와 재미 그 주변부를 살짝 간지럽히는 작품. 배우의 연기는 인상적이었다.'], ['이매큘레이트', '실관람객', 6.0, '예고편이 전부 40초동안 비명지르는거..'], ['이매큘레이트', '실관람객', 7.0, ''], ['이매큘레이트', '실관람객', 5.0, '이정도 연기로도 작품 하나 살리기가 힘들다'], ['이매큘레이트', '실관람객', 2.0, '공포물이라고 해서 보러 간건데 찜찜하고 기분 나빠요'], ['이매큘레이트', '실관람객', 2.0, '소재 낭비. 전개와 반응이 과하고, 감독의 관음적인 시선이 느껴저서 굉장히 불쾌했음. 개연성까지 없음'], ['이매큘레이트', '실관람객', 4.0, '스포일러가 포함된 감상평입니다. 감상평보기'], ['이매큘레이트', '실관람객', 4.0, '모든 면에서 <오멘: 저주의 시작>의 완벽한 하위 호환'], ['이매큘레이트', '실관람객', 5.0, '점프스케어를 넣지 않으면 공포영화를 만들 수 없는 걸까'], ['이매큘레이트', '실관람객', 4.0, '공포 영화로 기대하고 보러 갔는데 공포 영화로서의 매력은 정말 없습니다. 발상은 독특하지만 불쾌한 발상이기도 하고요. 배우의 연기는 좋았습니다.'], ['이매큘레이트', '실관람객', 7.0, '색다른 공포감이 느껴지지만 전체적으로 아쉽네요'], ['이매큘레이트', '실관람객', 5.0, '마리아도 마냥 측복이 아닐수도']]\n"
     ]
    }
   ],
   "source": [
    "print(lst)"
   ]
  },
  {
   "cell_type": "markdown",
   "id": "551e3c8b-238a-4549-a49b-3f918274715e",
   "metadata": {},
   "source": [
    "## 네티즌"
   ]
  },
  {
   "cell_type": "code",
   "execution_count": 16,
   "id": "029e8505-4908-4623-ab3b-a0f7a689466f",
   "metadata": {
    "tags": []
   },
   "outputs": [],
   "source": [
    "# driver.find_element(By.XPATH, '//*[@id=\"main_pack\"]/div[3]/div[2]/div/div/div[1]/div/div/ul/li[2]/a').click()\n",
    "driver.execute_script(\"window.scrollTo(0, 0);\")\n",
    "\n",
    "driver.find_element(By.XPATH, '//ul/li/a/span[contains(text(), \"네티즌\")]').click()\n",
    "\n",
    "scrollable_div = driver.find_element(By.XPATH, '//*[@id=\"main_pack\"]/div[3]/div[2]/div/div/div[5]/div[4]')"
   ]
  },
  {
   "cell_type": "code",
   "execution_count": 17,
   "id": "063be305-e74f-456a-b7ff-4740895f6432",
   "metadata": {
    "tags": []
   },
   "outputs": [],
   "source": [
    "while True:\n",
    "    actions = ActionChains(driver)\n",
    "    actions.move_to_element(scrollable_div).perform()\n",
    "\n",
    "    last_scroll_top = driver.execute_script(\"return arguments[0].scrollTop;\", scrollable_div)\n",
    "\n",
    "    driver.execute_script(\"arguments[0].scrollTop += arguments[0].offsetHeight;\", scrollable_div)\n",
    "\n",
    "    new_scroll_top = driver.execute_script(\"return arguments[0].scrollTop;\", scrollable_div)\n",
    "\n",
    "    if new_scroll_top == last_scroll_top:\n",
    "        break"
   ]
  },
  {
   "cell_type": "code",
   "execution_count": 18,
   "id": "f565580b-3150-4b4a-861c-5fbad08acabc",
   "metadata": {
    "tags": []
   },
   "outputs": [],
   "source": [
    "i = 1\n",
    "last = []\n",
    "\n",
    "while True:\n",
    "    try:\n",
    "        driver.find_element(By.XPATH, f'//*[@id=\"main_pack\"]/div[3]/div[2]/div/div/div[5]/div[4]/ul/li[{i}]/div[2]/div/button').click()\n",
    "    except:\n",
    "        pass\n",
    "\n",
    "    items = driver.find_elements(By.XPATH, f'//*[@id=\"main_pack\"]/div[3]/div[2]/div/div/div[5]/div[4]/ul/li[{i}]/div[2]/div/span')\n",
    "    scores = driver.find_elements(By.XPATH, f'//*[@id=\"main_pack\"]/div[3]/div[2]/div/div/div[5]/div[4]/ul/li[{i}]/div[1]/div/div[2]')\n",
    "\n",
    "    for j in items:\n",
    "        item = j.text\n",
    "\n",
    "    for j in scores:\n",
    "        score = float(j.text.split('\\n')[-1])\n",
    "\n",
    "    if last != [score, item]:\n",
    "        last = [score, item]\n",
    "        lst.append([name,'네티즌', score, item])\n",
    "        i += 1\n",
    "    else:\n",
    "        break"
   ]
  },
  {
   "cell_type": "code",
   "execution_count": 19,
   "id": "4fb5758a",
   "metadata": {},
   "outputs": [
    {
     "name": "stdout",
     "output_type": "stream",
     "text": [
      "[['이매큘레이트', '실관람객', 5.0, '\"오멘:저주의 시작\"이 생각나는 부분이 몇군데 있는데 전체적으로 오컬트 요소는 거의 없어요.지루하진 않은데 재밌다고는 못하겠네요.'], ['이매큘레이트', '실관람객', 10.0, '풍성하게 넣어준 점프스퀘어 후,역대급으로 불경하고 당황스러운 발상을 보여준다.시드니 스위니는 정말 모질게 고생한다'], ['이매큘레이트', '실관람객', 7.0, '시드니스위니의 연기가 영화 전체를 압도하는 느낌'], ['이매큘레이트', '실관람객', 10.0, '메가박스 2인석 28000원 말곤 개봉하는곳이 없어서 2.8만 주고 혼자 봤는데 넘비쌈 스토리 이런건 모르겠고 재미는 있음'], ['이매큘레이트', '실관람객', 5.0, '예측되는 스토리, 이렇게까지 해야 하나 싶은 엔딩.'], ['이매큘레이트', '실관람객', 4.0, '재밌게 잘... 못 봤습니다...'], ['이매큘레이트', '실관람객', 8.0, '예상과는 조금 다른 방향으로 흘러가는 공포. 시드니 스위니의 열연은 돋보였다.'], ['이매큘레이트', '실관람객', 8.0, '영화 잘 봤습니다 재밌네요'], ['이매큘레이트', '실관람객', 10.0, '내용 연기 모두 좋았어요.'], ['이매큘레이트', '실관람객', 8.0, '재미있어요재미있어요'], ['이매큘레이트', '실관람객', 5.0, '그냥저냥 좀 아쉬운영화'], ['이매큘레이트', '실관람객', 8.0, '적당적당히 볼만한 공포영화로 오멘과 비슷한 느낌'], ['이매큘레이트', '실관람객', 10.0, '재밌읍니다재밌읍니다'], ['이매큘레이트', '실관람객', 9.0, ''], ['이매큘레이트', '실관람객', 8.0, '이매큘레이트 이매큘레이트'], ['이매큘레이트', '실관람객', 10.0, '공포영화는 역시 영화관에서'], ['이매큘레이트', '실관람객', 6.0, '공포영화에 기대한정도로 본거같아요'], ['이매큘레이트', '실관람객', 8.0, '생각보디 재밌었어요 연출이 깔끔해요'], ['이매큘레이트', '실관람객', 7.0, ''], ['이매큘레이트', '실관람객', 10.0, '스포일러가 포함된 감상평입니다. 감상평보기'], ['이매큘레이트', '실관람객', 6.0, '스포일러가 포함된 감상평입니다. 감상평보기'], ['이매큘레이트', '실관람객', 2.0, '극장에서 본 최악의 영화'], ['이매큘레이트', '실관람객', 5.0, '재밌게 잘 봤습니다~!'], ['이매큘레이트', '실관람객', 2.0, '여주 연기가 그나마 살린'], ['이매큘레이트', '실관람객', 6.0, '성스러운 잉태를 모방하는건, 파멸.'], ['이매큘레이트', '실관람객', 6.0, '스페셜 티켓 잘 챙겼어요 하하'], ['이매큘레이트', '실관람객', 6.0, '그냥볼만한공포영화시다볼만하다'], ['이매큘레이트', '실관람객', 6.0, '(깜빡하고 못 봤다...)'], ['이매큘레이트', '실관람객', 5.0, '시드니 스위니의 연기력이 계속 늘어가네요.'], ['이매큘레이트', '실관람객', 6.0, '기대 안하고 갔는데 그냥 타임킬링용으로 볼만했음'], ['이매큘레이트', '실관람객', 10.0, '보세요.진짜 어마어마함.대단하다.'], ['이매큘레이트', '실관람객', 1.0, '오컬트 요소는 없고 스토리가 이상함'], ['이매큘레이트', '실관람객', 4.0, '주연 여배우가 연기를 잘했는데 이전에 본 퍼스트 오멘이 많이 겹쳐보여서 아쉬웠습니다.'], ['이매큘레이트', '실관람객', 10.0, '구우웃구우웃구우우웃'], ['이매큘레이트', '실관람객', 7.0, '나올때는 귀가 멍멍할 것이야'], ['이매큘레이트', '실관람객', 7.0, '공포와 재미 그 주변부를 살짝 간지럽히는 작품. 배우의 연기는 인상적이었다.'], ['이매큘레이트', '실관람객', 6.0, '예고편이 전부 40초동안 비명지르는거..'], ['이매큘레이트', '실관람객', 7.0, ''], ['이매큘레이트', '실관람객', 5.0, '이정도 연기로도 작품 하나 살리기가 힘들다'], ['이매큘레이트', '실관람객', 2.0, '공포물이라고 해서 보러 간건데 찜찜하고 기분 나빠요'], ['이매큘레이트', '실관람객', 2.0, '소재 낭비. 전개와 반응이 과하고, 감독의 관음적인 시선이 느껴저서 굉장히 불쾌했음. 개연성까지 없음'], ['이매큘레이트', '실관람객', 4.0, '스포일러가 포함된 감상평입니다. 감상평보기'], ['이매큘레이트', '실관람객', 4.0, '모든 면에서 <오멘: 저주의 시작>의 완벽한 하위 호환'], ['이매큘레이트', '실관람객', 5.0, '점프스케어를 넣지 않으면 공포영화를 만들 수 없는 걸까'], ['이매큘레이트', '실관람객', 4.0, '공포 영화로 기대하고 보러 갔는데 공포 영화로서의 매력은 정말 없습니다. 발상은 독특하지만 불쾌한 발상이기도 하고요. 배우의 연기는 좋았습니다.'], ['이매큘레이트', '실관람객', 7.0, '색다른 공포감이 느껴지지만 전체적으로 아쉽네요'], ['이매큘레이트', '실관람객', 5.0, '마리아도 마냥 측복이 아닐수도'], ['이매큘레이트', '네티즌', 6.0, '왜곡된 마리아가 짓는 고통의 일그러짐은 오랫동안 기억될 것'], ['이매큘레이트', '네티즌', 10.0, 'ㅈㄴ무서움 내친구 소리지름'], ['이매큘레이트', '네티즌', 8.0, '상상초월 수녀원이네요. 무섭다기보다 잔인하고, 징그러운 장면이 많아서 얼굴 찌푸리면서 봤어요.'], ['이매큘레이트', '네티즌', 6.0, '여주 연기가 다했다. 내용은 그냥 볼만함.'], ['이매큘레이트', '네티즌', 3.0, '이매큘레이트2025/01/07'], ['이매큘레이트', '네티즌', 6.0, '수녀 공포물이 워낙 많아서 별 기대없이 봤는데, 그런대로 볼만했음. 여주가 상당히 매력적.'], ['이매큘레이트', '네티즌', 5.0, '공포는 잡았지만 불쾌함은 못 잡았다'], ['이매큘레이트', '네티즌', 1.0, '너무 기괴하고 돈 아까웠음그리고 영화관에서는 제발 이상한 짓은 안하길 ...'], ['이매큘레이트', '네티즌', 8.0, '<주님의 뜻이 아니라면 왜 그냥 두실까요?> 현명한 사람이라면 모두 알지?'], ['이매큘레이트', '네티즌', 6.0, ''], ['이매큘레이트', '네티즌', 10.0, '여주인공 세실리야 연기력이 전체를 하드캐리했고, 기독신앙을 이해한다면 더욱 흥미롭게 볼 수 있다.'], ['이매큘레이트', '네티즌', 10.0, '여름에 볼만한 공포영화같아서 지식없이 보러갔는데 넘나 잔인했어요.. 재밌게봤어요'], ['이매큘레이트', '네티즌', 2.0, '마지막 화면 까매질때 설마 이대로 엔딩 크레딧 나오겠어 했는데 그대로 끝나네요 뭔가 이것저것 만들어보려고 레고를 바닥에 쫙 뿌려놨으나 정작 만든건 바퀴없는 자동차같은 느낌이 듭니다.또 여기서 놀라게하겠지 하는 포인트에 정확하게 놀래는 장면 나옵...'], ['이매큘레이트', '네티즌', 6.0, '어디서 본 내용~이거 저거 짜집기.결말은 허무.열린 결말인건지~그걸로 끝인건지~'], ['이매큘레이트', '네티즌', 6.0, '억지스너문 공포감 그이상도 이하도'], ['이매큘레이트', '네티즌', 10.0, '연기 너무 실감나네여 결말도 시원해용'], ['이매큘레이트', '네티즌', 6.0, 'ㅋㅋㅋ점프스퀘어라해야 깜짝놀래키기는장면이란 표현 보다 뭔가 영화를 더 잘 아는거 같아보이나봄ㅋ'], ['이매큘레이트', '네티즌', 1.0, '갑툭튀가 8할'], ['이매큘레이트', '네티즌', 10.0, '진짜 제인생 최고의 영화네요'], ['이매큘레이트', '네티즌', 1.0, '친구랑 공포를 느끼려고 봤는데 별로에요..'], ['이매큘레이트', '네티즌', 7.0, '도발적이고 발칙한 발상이 신선하다. 하지만 공포영화의 전재는 기대보다 평범해서 새로울 것이 없다. 놀라운 것은 시드니 스위니의 신들린 연기. 요즘 헐리우드 공포영화는 여배우의 폭발하는 연기력에 의지하여 만드는 듯.'], ['이매큘레이트', '네티즌', 10.0, '스토리 연기 다 생각보다 너무 재밌게 본 영화'], ['이매큘레이트', '네티즌', 7.0, '그냥저냥 볼만 했어요소재도 독특하고….'], ['이매큘레이트', '네티즌', 7.0, '생각보다 많이 무섭고 재밌음 주인공 연기가 좋았어요'], ['이매큘레이트', '네티즌', 10.0, '지금까지 봤던 공포영화 중에서 가장 새로운 감정을 느낄 수 있었고 꼭 친구들에게 추천해주고 싶은 영화!!!'], ['이매큘레이트', '네티즌', 4.0, '영화 배우들의 연기력은 정말 상당하다고 보이지만 재미도 감동도 스토리도 모르겠고 정말 무섭기만 하는 영화 같네요... 추천하지 않습니다ㅜ'], ['이매큘레이트', '네티즌', 6.0, '연기랑 연출은 좋았는데 개연성도 부족하고 후반부로 갈수록 긴장감이 사라짐...점프스케어도 나쁘지 않은데진짜 용두사미 느낌+고어스러운 연출이 은근 많음'], ['이매큘레이트', '네티즌', 2.0, '저 같이 역한거 잘 못보는 사람한테는 비추천이에요ㅜㅜ 너무 소름끼치고 역겨워요 제가 본 영화중에 제일 재미없고 감동도 없고 공감도 못하겠는 스토리와 전개 였습니다 돈이 아깝네요'], ['이매큘레이트', '네티즌', 4.0, '솔직히 이해잘못했어요.. 이야기전개가 잘 이해가 안됬어요.. 약간 b급 감성이였어요 뭔가 너무 흔한주제였던거 같아요'], ['이매큘레이트', '네티즌', 4.0, '연기로 밀고나가기에는 안무서움'], ['이매큘레이트', '네티즌', 2.0, '공포나 스릴보다는 보고나서 기분 나쁜 영화'], ['이매큘레이트', '네티즌', 2.0, '결말이…끝난줄도 몰랐음'], ['이매큘레이트', '네티즌', 10.0, '보기전 두근두근.. 역시 기대한 만큼 좋은 영화였습니다.'], ['이매큘레이트', '네티즌', 10.0, '15세는 아닌것 같아요 그 정도로 잔인했던거같네요.'], ['이매큘레이트', '네티즌', 1.0, '내가 평점 거의 안쓰는데, 스토리며 연출 등등 잣같은 영화임. 그냥 더넌 이나 한번 더 보세요 당신이 돈과 시간을 지켜드림'], ['이매큘레이트', '네티즌', 5.0, '음.. 중간중간 깜짝 놀라게하는 부분있고, 개인적으로는 재미있다고 말씀드리기는 어렵습니다.'], ['이매큘레이트', '네티즌', 5.0, '같은 해에 개봉했던 “오멘: 저주의 시작”과 많은 부분 유사한데, 주제와 공포의 측면에선 이 영화가 많이 부족하다. 그래도 주연을 맡은 시드니 스위니 덕분에 무난하게 볼만한 수준이다.'], ['이매큘레이트', '네티즌', 8.0, '혼자 봤는데 내 자신 무서운 거 잘 참았다ㅠㅠ'], ['이매큘레이트', '네티즌', 10.0, '아 진짜 너무너무너무너무 무서웠고요...계속 화들짝 놀라는거 넘 웃겨요..ㅎ'], ['이매큘레이트', '네티즌', 5.0, '똥싸고 뒤 안닦은 느낌, 점프스퀘어말고는 아무것도 없네'], ['이매큘레이트', '네티즌', 10.0, '소재가 식상한 엑소시즘이 아니라서 참 좋았고, 신선한 내용에 긴장감 더해져 꿀잼.'], ['이매큘레이트', '네티즌', 4.0, '아니 시드니 스위니 무슨 B급 탈출이야 또 B급 쓰레기 영화인데 하 ㅠ,.ㅠ;'], ['이매큘레이트', '네티즌', 1.0, '공포라고 했는데 공포1도 모르겠고 내용 지루하고 진짜 불쾌하고 볼만한건 연기력정도 연기력빼면 최악의 영화였음 개인적 의견입니다 참고만하세요'], ['이매큘레이트', '네티즌', 10.0, '무섭다기보다는 잔인한장면이많음여자배우 연기력도존나좋고 무조건추천함하지만 내용자체는 막좋다고는 못하겠다만 그래도 재밌음 마지막에 여운이좀남기도함'], ['이매큘레이트', '네티즌', 6.0, '초반에 기대지수를 높여놓고 서서히 떨어지는 영화..'], ['이매큘레이트', '네티즌', 8.0, '킬링타임무비. 마지막신 연기력이 압권'], ['이매큘레이트', '네티즌', 8.0, '와 좀 보고 속이안좋은데 신박한 공포였다'], ['이매큘레이트', '네티즌', 6.0, '다른인물들의 부족한 추가묘사와 세심하지않은 전개로 아쉬움은 많지만 무난한 연출과 좋은 음악으로 그냥 볼만한 공포영화라고 말하고싶다. 그리고 현실적인 공포 좋다'], ['이매큘레이트', '네티즌', 6.0, '내 결말 훔쳐간 새끼 누구야? 나와봐;'], ['이매큘레이트', '네티즌', 8.0, '고딕 오컬트 호러 장르에 뉴트로 시대 감성을 뿌려 22세기형 변종 사회고발르뽀오컬트장르물로의 진화 성공! 아름다운 광기의 연기를 마음껏 표출하는 시드니 스위니를 영접하는 것! 만으로도 충분!'], ['이매큘레이트', '네티즌', 7.0, '애매한 공포스릴러 갑작스런 장르전환에 분위기가 식는다...'], ['이매큘레이트', '네티즌', 7.0, '모독과 찬양의 경/계선'], ['이매큘레이트', '네티즌', 6.0, '종교에 매몰된 사람들의 잔혹한 실험. 주인공의 처절한 몸부림이 강하게 느껴진다.ㅠㅠ'], ['이매큘레이트', '네티즌', 10.0, '오랜만에 공포영화 봐서 재밌게 보고왔습니다.시드니 스위니 연기력이 돋보이네요'], ['이매큘레이트', '네티즌', 4.0, '음..신랑이랑 오랫만에 극장갔는데딱히 볼거없어서 선택.공포라는데당했다..신랑은 스토리는 좋았다는데나는 별루였다는'], ['이매큘레이트', '네티즌', 10.0, '여주 연기 지림 볼만하다'], ['이매큘레이트', '네티즌', 8.0, '너무무서워요강추함니다'], ['이매큘레이트', '네티즌', 10.0, '우와 빨리 보러가고 싶다 재밌을득'], ['이매큘레이트', '네티즌', 10.0, '재밌습미다스위니'], ['이매큘레이트', '네티즌', 4.0, '모티브의 표현에 대한 고민을 덜고 수태고지라는 달콤한 자극을 소비한다.'], ['이매큘레이트', '네티즌', 2.0, '무슨내용도 없고 스릴러라고 봣는데 너무 실망, 재미 1도 없어요'], ['이매큘레이트', '네티즌', 10.0, '와 전혀 기대 안하고 봤는데 졸라 놀래는 거 개많고 반전 ㄷㄷ'], ['이매큘레이트', '네티즌', 6.0, 'ㅅ1ㅂ 혼영했으면 지릴뻔'], ['이매큘레이트', '네티즌', 1.0, '공포영화지만 무섭지도않고 재미없음.'], ['이매큘레이트', '네티즌', 10.0, '더너어엉어어어엉어어어']]\n"
     ]
    }
   ],
   "source": [
    "print(lst)"
   ]
  },
  {
   "cell_type": "markdown",
   "id": "1c22cdd9-235d-40b7-b75e-6173eebcbd6e",
   "metadata": {},
   "source": [
    "## 평론가"
   ]
  },
  {
   "cell_type": "code",
   "execution_count": 20,
   "id": "8f1cc80f-6a47-486a-93a5-fb8158d63720",
   "metadata": {
    "tags": []
   },
   "outputs": [],
   "source": [
    "driver.execute_script(\"window.scrollTo(0, 0);\")\n",
    "driver.find_element(By.XPATH, '//ul/li/a/span[contains(text(), \"평론가\")]').click()\n",
    "scrollable_div = driver.find_element(By.XPATH, '//*[@id=\"main_pack\"]/div[3]/div[2]/div/div/div[6]/div')"
   ]
  },
  {
   "cell_type": "code",
   "execution_count": 21,
   "id": "928d8409-83d5-4f7d-b867-03fcc6f64c14",
   "metadata": {
    "tags": []
   },
   "outputs": [],
   "source": [
    "while True:\n",
    "    actions = ActionChains(driver)\n",
    "    actions.move_to_element(scrollable_div).perform()\n",
    "\n",
    "    last_scroll_top = driver.execute_script(\"return arguments[0].scrollTop;\", scrollable_div)\n",
    "\n",
    "    driver.execute_script(\"arguments[0].scrollTop += arguments[0].offsetHeight;\", scrollable_div)\n",
    "\n",
    "    new_scroll_top = driver.execute_script(\"return arguments[0].scrollTop;\", scrollable_div)\n",
    "\n",
    "    if new_scroll_top == last_scroll_top:\n",
    "        break"
   ]
  },
  {
   "cell_type": "code",
   "execution_count": 22,
   "id": "b7b6eaf3-58a6-4d1b-a93e-34fab1a4eaba",
   "metadata": {
    "tags": []
   },
   "outputs": [],
   "source": [
    "i = 1\n",
    "last = []\n",
    "\n",
    "while True:\n",
    "    try:\n",
    "        driver.find_element(By.XPATH, f'//*[@id=\"main_pack\"]/div[3]/div[2]/div/div/div[6]/div/ul/li[{i}]/div[3]/button').click()\n",
    "    except:\n",
    "        pass\n",
    "\n",
    "    items = driver.find_elements(By.XPATH, f'//*[@id=\"main_pack\"]/div[3]/div[2]/div/div/div[6]/div/ul/li[{i}]/div[3]/span')\n",
    "    scores = driver.find_elements(By.XPATH, f'//*[@id=\"main_pack\"]/div[3]/div[2]/div/div/div[6]/div/ul/li[{i}]/div[2]/div[2]')\n",
    "\n",
    "    for j in items:\n",
    "        item = j.text\n",
    "\n",
    "    for j in scores:\n",
    "        score = float(j.text.split('\\n')[-1])\n",
    "\n",
    "    if last != [score, item]:\n",
    "        last = [score, item]\n",
    "        lst.append([name, score, item])\n",
    "        i += 1\n",
    "    else:\n",
    "        break"
   ]
  },
  {
   "cell_type": "code",
   "execution_count": 23,
   "id": "f6645725-23c6-4538-acab-ff97d73fc041",
   "metadata": {
    "tags": []
   },
   "outputs": [
    {
     "data": {
      "text/plain": [
       "113"
      ]
     },
     "execution_count": 23,
     "metadata": {},
     "output_type": "execute_result"
    }
   ],
   "source": [
    "len(lst)"
   ]
  },
  {
   "cell_type": "code",
   "execution_count": null,
   "id": "8641a2fd-74d8-4728-a1de-25cd1b4dfb90",
   "metadata": {},
   "outputs": [],
   "source": []
  },
  {
   "cell_type": "code",
   "execution_count": null,
   "id": "2a1fa226-ba74-4e3f-80a6-493e3f179873",
   "metadata": {},
   "outputs": [],
   "source": []
  },
  {
   "cell_type": "markdown",
   "id": "bc7252fa-668e-4b25-b9dc-b9fc6afe5661",
   "metadata": {
    "tags": []
   },
   "source": [
    "# 플라이 미 투 더 문"
   ]
  },
  {
   "cell_type": "code",
   "execution_count": 32,
   "id": "5d4b76d7-b28a-47d4-a98b-6ca46c6a7b52",
   "metadata": {},
   "outputs": [],
   "source": [
    "name = '플라이 미 투 더 문'"
   ]
  },
  {
   "cell_type": "code",
   "execution_count": 33,
   "id": "654f4fac-dfca-4d7f-a191-880fab6c47de",
   "metadata": {
    "tags": []
   },
   "outputs": [],
   "source": [
    "# 2. 웹 페이지 열기\n",
    "driver.get('https://search.naver.com/search.naver?sm=tab_hty.top&where=nexearch&ssc=tab.nx.all&query=%ED%94%8C%EB%9D%BC%EC%9D%B4+%EB%AF%B8+%ED%88%AC+%EB%8D%94+%EB%AC%B8+%EA%B4%80%EB%9E%8C%ED%8F%89&oquery=%EC%9D%B4%EB%A7%A4%ED%81%98%EB%A0%88%EC%9D%B4%ED%8A%B8+%EA%B4%80%EB%9E%8C%ED%8F%89&tqi=ipmPywqptbNssRIhGqlssssssO4-499681')\n",
    "time.sleep(5)"
   ]
  },
  {
   "cell_type": "code",
   "execution_count": 36,
   "id": "7151af7e-e71a-4671-a442-999b479c9d04",
   "metadata": {
    "tags": []
   },
   "outputs": [
    {
     "ename": "NoSuchElementException",
     "evalue": "Message: no such element: Unable to locate element: {\"method\":\"xpath\",\"selector\":\"//*[@id=\"main_pack\"]/div[3]/div[2]/div/div/div[4]/div[2]/div[2]/a\"}\n  (Session info: chrome=133.0.6943.142); For documentation on this error, please visit: https://www.selenium.dev/documentation/webdriver/troubleshooting/errors#no-such-element-exception\nStacktrace:\n\tGetHandleVerifier [0x00007FF7AA85C6A5+28789]\n\t(No symbol) [0x00007FF7AA7C5B20]\n\t(No symbol) [0x00007FF7AA658F9A]\n\t(No symbol) [0x00007FF7AA6AF346]\n\t(No symbol) [0x00007FF7AA6AF57C]\n\t(No symbol) [0x00007FF7AA702B17]\n\t(No symbol) [0x00007FF7AA6D736F]\n\t(No symbol) [0x00007FF7AA6FF7E3]\n\t(No symbol) [0x00007FF7AA6D7103]\n\t(No symbol) [0x00007FF7AA69FFC0]\n\t(No symbol) [0x00007FF7AA6A1273]\n\tGetHandleVerifier [0x00007FF7AABA1AED+3458237]\n\tGetHandleVerifier [0x00007FF7AABB829C+3550316]\n\tGetHandleVerifier [0x00007FF7AABADB9D+3507565]\n\tGetHandleVerifier [0x00007FF7AA922C6A+841274]\n\t(No symbol) [0x00007FF7AA7D09EF]\n\t(No symbol) [0x00007FF7AA7CCB34]\n\t(No symbol) [0x00007FF7AA7CCCD6]\n\t(No symbol) [0x00007FF7AA7BC119]\n\tBaseThreadInitThunk [0x00007FFF6110259D+29]\n\tRtlUserThreadStart [0x00007FFF629EAF38+40]\n",
     "output_type": "error",
     "traceback": [
      "\u001b[31m---------------------------------------------------------------------------\u001b[39m",
      "\u001b[31mNoSuchElementException\u001b[39m                    Traceback (most recent call last)",
      "\u001b[36mCell\u001b[39m\u001b[36m \u001b[39m\u001b[32mIn[36]\u001b[39m\u001b[32m, line 2\u001b[39m\n\u001b[32m      1\u001b[39m \u001b[38;5;66;03m# 3. 스크롤할 특정 요소 찾기\u001b[39;00m\n\u001b[32m----> \u001b[39m\u001b[32m2\u001b[39m \u001b[43mdriver\u001b[49m\u001b[43m.\u001b[49m\u001b[43mfind_element\u001b[49m\u001b[43m(\u001b[49m\u001b[43mBy\u001b[49m\u001b[43m.\u001b[49m\u001b[43mXPATH\u001b[49m\u001b[43m,\u001b[49m\u001b[43m \u001b[49m\u001b[33;43m'\u001b[39;49m\u001b[33;43m//*[@id=\u001b[39;49m\u001b[33;43m\"\u001b[39;49m\u001b[33;43mmain_pack\u001b[39;49m\u001b[33;43m\"\u001b[39;49m\u001b[33;43m]/div[3]/div[2]/div/div/div[4]/div[2]/div[2]/a\u001b[39;49m\u001b[33;43m'\u001b[39;49m\u001b[43m)\u001b[49m.click()\n\u001b[32m      3\u001b[39m scrollable_div = driver.find_element(By.XPATH, \u001b[33m'\u001b[39m\u001b[33m//*[@id=\u001b[39m\u001b[33m\"\u001b[39m\u001b[33mmain_pack\u001b[39m\u001b[33m\"\u001b[39m\u001b[33m]/div[3]/div[2]/div/div/div[4]/div[4]\u001b[39m\u001b[33m'\u001b[39m)\n",
      "\u001b[36mFile \u001b[39m\u001b[32mc:\\Users\\yejun\\AppData\\Local\\Programs\\Python\\Python311\\Lib\\site-packages\\selenium\\webdriver\\remote\\webdriver.py:898\u001b[39m, in \u001b[36mWebDriver.find_element\u001b[39m\u001b[34m(self, by, value)\u001b[39m\n\u001b[32m    895\u001b[39m         \u001b[38;5;28;01mraise\u001b[39;00m NoSuchElementException(\u001b[33mf\u001b[39m\u001b[33m\"\u001b[39m\u001b[33mCannot locate relative element with: \u001b[39m\u001b[38;5;132;01m{\u001b[39;00mby.root\u001b[38;5;132;01m}\u001b[39;00m\u001b[33m\"\u001b[39m)\n\u001b[32m    896\u001b[39m     \u001b[38;5;28;01mreturn\u001b[39;00m elements[\u001b[32m0\u001b[39m]\n\u001b[32m--> \u001b[39m\u001b[32m898\u001b[39m \u001b[38;5;28;01mreturn\u001b[39;00m \u001b[38;5;28;43mself\u001b[39;49m\u001b[43m.\u001b[49m\u001b[43mexecute\u001b[49m\u001b[43m(\u001b[49m\u001b[43mCommand\u001b[49m\u001b[43m.\u001b[49m\u001b[43mFIND_ELEMENT\u001b[49m\u001b[43m,\u001b[49m\u001b[43m \u001b[49m\u001b[43m{\u001b[49m\u001b[33;43m\"\u001b[39;49m\u001b[33;43musing\u001b[39;49m\u001b[33;43m\"\u001b[39;49m\u001b[43m:\u001b[49m\u001b[43m \u001b[49m\u001b[43mby\u001b[49m\u001b[43m,\u001b[49m\u001b[43m \u001b[49m\u001b[33;43m\"\u001b[39;49m\u001b[33;43mvalue\u001b[39;49m\u001b[33;43m\"\u001b[39;49m\u001b[43m:\u001b[49m\u001b[43m \u001b[49m\u001b[43mvalue\u001b[49m\u001b[43m}\u001b[49m\u001b[43m)\u001b[49m[\u001b[33m\"\u001b[39m\u001b[33mvalue\u001b[39m\u001b[33m\"\u001b[39m]\n",
      "\u001b[36mFile \u001b[39m\u001b[32mc:\\Users\\yejun\\AppData\\Local\\Programs\\Python\\Python311\\Lib\\site-packages\\selenium\\webdriver\\remote\\webdriver.py:429\u001b[39m, in \u001b[36mWebDriver.execute\u001b[39m\u001b[34m(self, driver_command, params)\u001b[39m\n\u001b[32m    427\u001b[39m response = \u001b[38;5;28mself\u001b[39m.command_executor.execute(driver_command, params)\n\u001b[32m    428\u001b[39m \u001b[38;5;28;01mif\u001b[39;00m response:\n\u001b[32m--> \u001b[39m\u001b[32m429\u001b[39m     \u001b[38;5;28;43mself\u001b[39;49m\u001b[43m.\u001b[49m\u001b[43merror_handler\u001b[49m\u001b[43m.\u001b[49m\u001b[43mcheck_response\u001b[49m\u001b[43m(\u001b[49m\u001b[43mresponse\u001b[49m\u001b[43m)\u001b[49m\n\u001b[32m    430\u001b[39m     response[\u001b[33m\"\u001b[39m\u001b[33mvalue\u001b[39m\u001b[33m\"\u001b[39m] = \u001b[38;5;28mself\u001b[39m._unwrap_value(response.get(\u001b[33m\"\u001b[39m\u001b[33mvalue\u001b[39m\u001b[33m\"\u001b[39m, \u001b[38;5;28;01mNone\u001b[39;00m))\n\u001b[32m    431\u001b[39m     \u001b[38;5;28;01mreturn\u001b[39;00m response\n",
      "\u001b[36mFile \u001b[39m\u001b[32mc:\\Users\\yejun\\AppData\\Local\\Programs\\Python\\Python311\\Lib\\site-packages\\selenium\\webdriver\\remote\\errorhandler.py:232\u001b[39m, in \u001b[36mErrorHandler.check_response\u001b[39m\u001b[34m(self, response)\u001b[39m\n\u001b[32m    230\u001b[39m         alert_text = value[\u001b[33m\"\u001b[39m\u001b[33malert\u001b[39m\u001b[33m\"\u001b[39m].get(\u001b[33m\"\u001b[39m\u001b[33mtext\u001b[39m\u001b[33m\"\u001b[39m)\n\u001b[32m    231\u001b[39m     \u001b[38;5;28;01mraise\u001b[39;00m exception_class(message, screen, stacktrace, alert_text)  \u001b[38;5;66;03m# type: ignore[call-arg]  # mypy is not smart enough here\u001b[39;00m\n\u001b[32m--> \u001b[39m\u001b[32m232\u001b[39m \u001b[38;5;28;01mraise\u001b[39;00m exception_class(message, screen, stacktrace)\n",
      "\u001b[31mNoSuchElementException\u001b[39m: Message: no such element: Unable to locate element: {\"method\":\"xpath\",\"selector\":\"//*[@id=\"main_pack\"]/div[3]/div[2]/div/div/div[4]/div[2]/div[2]/a\"}\n  (Session info: chrome=133.0.6943.142); For documentation on this error, please visit: https://www.selenium.dev/documentation/webdriver/troubleshooting/errors#no-such-element-exception\nStacktrace:\n\tGetHandleVerifier [0x00007FF7AA85C6A5+28789]\n\t(No symbol) [0x00007FF7AA7C5B20]\n\t(No symbol) [0x00007FF7AA658F9A]\n\t(No symbol) [0x00007FF7AA6AF346]\n\t(No symbol) [0x00007FF7AA6AF57C]\n\t(No symbol) [0x00007FF7AA702B17]\n\t(No symbol) [0x00007FF7AA6D736F]\n\t(No symbol) [0x00007FF7AA6FF7E3]\n\t(No symbol) [0x00007FF7AA6D7103]\n\t(No symbol) [0x00007FF7AA69FFC0]\n\t(No symbol) [0x00007FF7AA6A1273]\n\tGetHandleVerifier [0x00007FF7AABA1AED+3458237]\n\tGetHandleVerifier [0x00007FF7AABB829C+3550316]\n\tGetHandleVerifier [0x00007FF7AABADB9D+3507565]\n\tGetHandleVerifier [0x00007FF7AA922C6A+841274]\n\t(No symbol) [0x00007FF7AA7D09EF]\n\t(No symbol) [0x00007FF7AA7CCB34]\n\t(No symbol) [0x00007FF7AA7CCCD6]\n\t(No symbol) [0x00007FF7AA7BC119]\n\tBaseThreadInitThunk [0x00007FFF6110259D+29]\n\tRtlUserThreadStart [0x00007FFF629EAF38+40]\n"
     ]
    }
   ],
   "source": [
    "# 3. 스크롤할 특정 요소 찾기\n",
    "driver.find_element(By.XPATH, '//*[@id=\"main_pack\"]/div[3]/div[2]/div/div/div[4]/div[2]/div[2]/button').click()\n",
    "scrollable_div = driver.find_element(By.XPATH, '//*[@id=\"main_pack\"]/div[3]/div[2]/div/div/div[4]/div[4]')"
   ]
  },
  {
   "cell_type": "markdown",
   "id": "6bae6594-3191-4fb8-8254-306ebcac80d9",
   "metadata": {},
   "source": [
    "## 실관람객"
   ]
  },
  {
   "cell_type": "code",
   "execution_count": null,
   "id": "5cc50dc3-c84c-41ad-bb44-fce0102d45e5",
   "metadata": {
    "tags": []
   },
   "outputs": [],
   "source": [
    "while True:\n",
    "    actions = ActionChains(driver)\n",
    "    actions.move_to_element(scrollable_div).perform()\n",
    "\n",
    "    last_scroll_top = driver.execute_script(\"return arguments[0].scrollTop;\", scrollable_div)\n",
    "\n",
    "    driver.execute_script(\"arguments[0].scrollTop += arguments[0].offsetHeight;\", scrollable_div)\n",
    "\n",
    "    new_scroll_top = driver.execute_script(\"return arguments[0].scrollTop;\", scrollable_div)\n",
    "\n",
    "    if new_scroll_top == last_scroll_top:\n",
    "        break"
   ]
  },
  {
   "cell_type": "code",
   "execution_count": null,
   "id": "53b940b2-df43-4bc2-9bb7-473da881a6c8",
   "metadata": {
    "tags": []
   },
   "outputs": [],
   "source": [
    "i = 1\n",
    "last = []\n",
    "\n",
    "while True:\n",
    "    try:\n",
    "        driver.find_element(By.XPATH, f'//*[@id=\"main_pack\"]/div[3]/div[2]/div/div/div[4]/div[4]/ul/li[{i}]/div[2]/div/button').click()\n",
    "    except Exception as e:\n",
    "        pass\n",
    "\n",
    "    items = scrollable_div.find_elements(By.XPATH, f'//*[@id=\"main_pack\"]/div[3]/div[2]/div/div/div[4]/div[4]/ul/li[{i}]/div[2]/div/span[2]')\n",
    "    scores = scrollable_div.find_elements(By.XPATH, f'//*[@id=\"main_pack\"]/div[3]/div[2]/div/div/div[4]/div[4]/ul/li[{i}]/div[1]/div/div[2]')\n",
    "\n",
    "    for j in items:\n",
    "        item = j.text\n",
    "        \n",
    "    for j in scores:\n",
    "        score = float(j.text.split('\\n')[-1])\n",
    "        \n",
    "    if last != [score, item]:\n",
    "        last = [score, item]\n",
    "        lst.append([name, score, item])\n",
    "        i += 1\n",
    "    else:\n",
    "        break"
   ]
  },
  {
   "cell_type": "markdown",
   "id": "5d16bb1b-2ee0-49a1-ab9c-72f3fbbd40a1",
   "metadata": {},
   "source": [
    "## 네티즌"
   ]
  },
  {
   "cell_type": "code",
   "execution_count": null,
   "id": "a7fd42e8-49d4-48c7-b74b-53e23ed2811d",
   "metadata": {
    "tags": []
   },
   "outputs": [],
   "source": [
    "# driver.find_element(By.XPATH, '//*[@id=\"main_pack\"]/div[3]/div[2]/div/div/div[1]/div/div/ul/li[2]/a').click()\n",
    "driver.find_element(By.XPATH, '//*[@id=\"main_pack\"]/div[3]/div[2]/div/div/div[5]/div[2]/div[2]/button').click()\n",
    "scrollable_div = driver.find_element(By.XPATH, '//*[@id=\"main_pack\"]/div[3]/div[2]/div/div/div[5]/div[4]')"
   ]
  },
  {
   "cell_type": "code",
   "execution_count": null,
   "id": "041e84ba-45e7-40a6-89b1-1410ba720468",
   "metadata": {
    "tags": []
   },
   "outputs": [],
   "source": [
    "while True:\n",
    "    actions = ActionChains(driver)\n",
    "    actions.move_to_element(scrollable_div).perform()\n",
    "\n",
    "    last_scroll_top = driver.execute_script(\"return arguments[0].scrollTop;\", scrollable_div)\n",
    "\n",
    "    driver.execute_script(\"arguments[0].scrollTop += arguments[0].offsetHeight;\", scrollable_div)\n",
    "\n",
    "    new_scroll_top = driver.execute_script(\"return arguments[0].scrollTop;\", scrollable_div)\n",
    "\n",
    "    if new_scroll_top == last_scroll_top:\n",
    "        break"
   ]
  },
  {
   "cell_type": "code",
   "execution_count": null,
   "id": "1f959986-f213-4067-ba18-d9a10ae11a2a",
   "metadata": {
    "tags": []
   },
   "outputs": [],
   "source": [
    "i = 1\n",
    "last = []\n",
    "\n",
    "while True:\n",
    "    try:\n",
    "        driver.find_element(By.XPATH, f'//*[@id=\"main_pack\"]/div[3]/div[2]/div/div/div[5]/div[4]/ul/li[{i}]/div[2]/div/button').click()\n",
    "    except:\n",
    "        pass\n",
    "\n",
    "    items = driver.find_elements(By.XPATH, f'//*[@id=\"main_pack\"]/div[3]/div[2]/div/div/div[5]/div[4]/ul/li[{i}]/div[2]/div/span')\n",
    "    scores = driver.find_elements(By.XPATH, f'//*[@id=\"main_pack\"]/div[3]/div[2]/div/div/div[5]/div[4]/ul/li[{i}]/div[1]/div/div[2]')\n",
    "\n",
    "    for j in items:\n",
    "        item = j.text\n",
    "\n",
    "    for j in scores:\n",
    "        score = float(j.text.split('\\n')[-1])\n",
    "\n",
    "    if last != [score, item]:\n",
    "        last = [score, item]\n",
    "        lst.append([name, score, item])\n",
    "        i += 1\n",
    "    else:\n",
    "        break"
   ]
  },
  {
   "cell_type": "markdown",
   "id": "a319735e-fa11-4f0b-bbd5-3c931e11085e",
   "metadata": {},
   "source": [
    "## 평론가"
   ]
  },
  {
   "cell_type": "code",
   "execution_count": null,
   "id": "8134187b-7cab-4e4d-b207-5d75a049cd3c",
   "metadata": {
    "tags": []
   },
   "outputs": [],
   "source": [
    "# driver.find_element(By.XPATH, '//*[@id=\"main_pack\"]/div[3]/div[2]/div/div/div[1]/div/div/ul/li[3]/a').click()\n",
    "scrollable_div = driver.find_element(By.XPATH, '//*[@id=\"main_pack\"]/div[3]/div[2]/div/div/div[6]/div')"
   ]
  },
  {
   "cell_type": "code",
   "execution_count": null,
   "id": "12d60960-06e9-4059-b8dc-4f4618008c0a",
   "metadata": {
    "tags": []
   },
   "outputs": [],
   "source": [
    "while True:\n",
    "    actions = ActionChains(driver)\n",
    "    actions.move_to_element(scrollable_div).perform()\n",
    "\n",
    "    last_scroll_top = driver.execute_script(\"return arguments[0].scrollTop;\", scrollable_div)\n",
    "\n",
    "    driver.execute_script(\"arguments[0].scrollTop += arguments[0].offsetHeight;\", scrollable_div)\n",
    "\n",
    "    new_scroll_top = driver.execute_script(\"return arguments[0].scrollTop;\", scrollable_div)\n",
    "\n",
    "    if new_scroll_top == last_scroll_top:\n",
    "        break"
   ]
  },
  {
   "cell_type": "code",
   "execution_count": null,
   "id": "b6069ed2-5481-4c7a-8d49-1ce5f713503e",
   "metadata": {
    "tags": []
   },
   "outputs": [],
   "source": [
    "i = 1\n",
    "last = []\n",
    "\n",
    "while True:\n",
    "    try:\n",
    "        driver.find_element(By.XPATH, f'//*[@id=\"main_pack\"]/div[3]/div[2]/div/div/div[6]/div/ul/li[{i}]/div[3]/button').click()\n",
    "    except:\n",
    "        pass\n",
    "\n",
    "    items = driver.find_elements(By.XPATH, f'//*[@id=\"main_pack\"]/div[3]/div[2]/div/div/div[6]/div/ul/li[{i}]/div[3]/span')\n",
    "    scores = driver.find_elements(By.XPATH, f'//*[@id=\"main_pack\"]/div[3]/div[2]/div/div/div[6]/div/ul/li[{i}]/div[2]/div[2]')\n",
    "\n",
    "    for j in items:\n",
    "        item = j.text\n",
    "\n",
    "    for j in scores:\n",
    "        score = float(j.text.split('\\n')[-1])\n",
    "\n",
    "    if last != [score, item]:\n",
    "        last = [score, item]\n",
    "        lst.append([name, score, item])\n",
    "        i += 1\n",
    "    else:\n",
    "        break"
   ]
  },
  {
   "cell_type": "code",
   "execution_count": null,
   "id": "733730ad-1795-481c-b507-596773928838",
   "metadata": {
    "tags": []
   },
   "outputs": [],
   "source": [
    "len(lst)"
   ]
  },
  {
   "cell_type": "code",
   "execution_count": null,
   "id": "ba429fbc-a74c-46c2-b0e6-fc62eac383a5",
   "metadata": {},
   "outputs": [],
   "source": []
  },
  {
   "cell_type": "code",
   "execution_count": null,
   "id": "48b678b7-5f7a-4046-9d9d-7b7c78cf2bc5",
   "metadata": {},
   "outputs": [],
   "source": []
  },
  {
   "cell_type": "markdown",
   "id": "4b0d0be9-1282-49ee-888e-e8f2ba423df7",
   "metadata": {
    "tags": []
   },
   "source": [
    "# 탈출"
   ]
  },
  {
   "cell_type": "code",
   "execution_count": null,
   "id": "eb5d3bb5-29be-4fcd-a8e9-fcce08f13dab",
   "metadata": {
    "tags": []
   },
   "outputs": [],
   "source": [
    "name = '탈출'"
   ]
  },
  {
   "cell_type": "code",
   "execution_count": null,
   "id": "e85e69c3-cb3e-4df8-8134-df4518913175",
   "metadata": {
    "tags": []
   },
   "outputs": [],
   "source": [
    "# 2. 웹 페이지 열기\n",
    "driver.get('https://search.naver.com/search.naver?where=nexearch&sm=tab_etc&mra=bkEw&pkid=68&os=16127542&qvt=0&query=%ED%83%88%EC%B6%9C%3A%20%ED%94%84%EB%A1%9C%EC%A0%9D%ED%8A%B8%20%EC%82%AC%EC%9D%BC%EB%9F%B0%EC%8A%A4%20%EA%B4%80%EB%9E%8C%ED%8F%89')\n",
    "time.sleep(5)"
   ]
  },
  {
   "cell_type": "code",
   "execution_count": null,
   "id": "606ce93d-fc6a-43b1-8859-c4ea02224081",
   "metadata": {
    "tags": []
   },
   "outputs": [],
   "source": [
    "# 3. 스크롤할 특정 요소 찾기\n",
    "driver.find_element(By.XPATH, '//*[@id=\"main_pack\"]/div[3]/div[2]/div/div/div[4]/div[2]/div[2]/button').click()\n",
    "scrollable_div = driver.find_element(By.XPATH, '//*[@id=\"main_pack\"]/div[3]/div[2]/div/div/div[4]/div[4]')"
   ]
  },
  {
   "cell_type": "markdown",
   "id": "0656df03-12c3-428e-bc32-b82486f42d86",
   "metadata": {},
   "source": [
    "## 실관람객"
   ]
  },
  {
   "cell_type": "code",
   "execution_count": null,
   "id": "ede14e1c-b68e-48dc-9af4-8eaa3f763e6a",
   "metadata": {
    "tags": []
   },
   "outputs": [],
   "source": [
    "while True:\n",
    "    actions = ActionChains(driver)\n",
    "    actions.move_to_element(scrollable_div).perform()\n",
    "\n",
    "    last_scroll_top = driver.execute_script(\"return arguments[0].scrollTop;\", scrollable_div)\n",
    "\n",
    "    driver.execute_script(\"arguments[0].scrollTop += arguments[0].offsetHeight;\", scrollable_div)\n",
    "\n",
    "    new_scroll_top = driver.execute_script(\"return arguments[0].scrollTop;\", scrollable_div)\n",
    "\n",
    "    if new_scroll_top == last_scroll_top:\n",
    "        break"
   ]
  },
  {
   "cell_type": "code",
   "execution_count": null,
   "id": "40215258-9128-487e-a812-d4bdcc4e65f6",
   "metadata": {
    "tags": []
   },
   "outputs": [],
   "source": [
    "i = 1\n",
    "last = []\n",
    "\n",
    "while True:\n",
    "    try:\n",
    "        driver.find_element(By.XPATH, f'//*[@id=\"main_pack\"]/div[3]/div[2]/div/div/div[4]/div[4]/ul/li[{i}]/div[2]/div/button').click()\n",
    "    except Exception as e:\n",
    "        pass\n",
    "\n",
    "    items = scrollable_div.find_elements(By.XPATH, f'//*[@id=\"main_pack\"]/div[3]/div[2]/div/div/div[4]/div[4]/ul/li[{i}]/div[2]/div/span[2]')\n",
    "    scores = scrollable_div.find_elements(By.XPATH, f'//*[@id=\"main_pack\"]/div[3]/div[2]/div/div/div[4]/div[4]/ul/li[{i}]/div[1]/div/div[2]')\n",
    "\n",
    "    for j in items:\n",
    "        item = j.text\n",
    "        \n",
    "    for j in scores:\n",
    "        score = float(j.text.split('\\n')[-1])\n",
    "        \n",
    "    if last != [score, item]:\n",
    "        last = [score, item]\n",
    "        lst.append([name, score, item])\n",
    "        i += 1\n",
    "    else:\n",
    "        break"
   ]
  },
  {
   "cell_type": "markdown",
   "id": "b683498d-aad7-42ed-8472-fdc9be1d84c5",
   "metadata": {},
   "source": [
    "## 네티즌"
   ]
  },
  {
   "cell_type": "code",
   "execution_count": null,
   "id": "fde20199-3e3c-4ae5-aa5f-6a3116099922",
   "metadata": {
    "tags": []
   },
   "outputs": [],
   "source": [
    "# driver.find_element(By.XPATH, '//*[@id=\"main_pack\"]/div[3]/div[2]/div/div/div[1]/div/div/ul/li[2]/a').click()\n",
    "driver.find_element(By.XPATH, '//*[@id=\"main_pack\"]/div[3]/div[2]/div/div/div[5]/div[2]/div[2]/button').click()\n",
    "scrollable_div = driver.find_element(By.XPATH, '//*[@id=\"main_pack\"]/div[3]/div[2]/div/div/div[5]/div[4]')"
   ]
  },
  {
   "cell_type": "code",
   "execution_count": null,
   "id": "5831d9a6-a9b5-4d00-b6c9-9b087a8af40d",
   "metadata": {
    "tags": []
   },
   "outputs": [],
   "source": [
    "while True:\n",
    "    actions = ActionChains(driver)\n",
    "    actions.move_to_element(scrollable_div).perform()\n",
    "\n",
    "    last_scroll_top = driver.execute_script(\"return arguments[0].scrollTop;\", scrollable_div)\n",
    "\n",
    "    driver.execute_script(\"arguments[0].scrollTop += arguments[0].offsetHeight;\", scrollable_div)\n",
    "\n",
    "    new_scroll_top = driver.execute_script(\"return arguments[0].scrollTop;\", scrollable_div)\n",
    "\n",
    "    if new_scroll_top == last_scroll_top:\n",
    "        break"
   ]
  },
  {
   "cell_type": "code",
   "execution_count": null,
   "id": "66a939e2-5fc9-4093-9c6a-29fddd82dc0d",
   "metadata": {
    "tags": []
   },
   "outputs": [],
   "source": [
    "i = 1\n",
    "last = []\n",
    "\n",
    "while True:\n",
    "    try:\n",
    "        driver.find_element(By.XPATH, f'//*[@id=\"main_pack\"]/div[3]/div[2]/div/div/div[5]/div[4]/ul/li[{i}]/div[2]/div/button').click()\n",
    "    except:\n",
    "        pass\n",
    "\n",
    "    items = driver.find_elements(By.XPATH, f'//*[@id=\"main_pack\"]/div[3]/div[2]/div/div/div[5]/div[4]/ul/li[{i}]/div[2]/div/span')\n",
    "    scores = driver.find_elements(By.XPATH, f'//*[@id=\"main_pack\"]/div[3]/div[2]/div/div/div[5]/div[4]/ul/li[{i}]/div[1]/div/div[2]')\n",
    "\n",
    "    for j in items:\n",
    "        item = j.text\n",
    "\n",
    "    for j in scores:\n",
    "        score = float(j.text.split('\\n')[-1])\n",
    "\n",
    "    if last != [score, item]:\n",
    "        last = [score, item]\n",
    "        lst.append([name, score, item])\n",
    "        i += 1\n",
    "    else:\n",
    "        break"
   ]
  },
  {
   "cell_type": "markdown",
   "id": "8c1a013c-0276-42dd-b780-39b02a3b8050",
   "metadata": {},
   "source": [
    "## 평론가"
   ]
  },
  {
   "cell_type": "code",
   "execution_count": null,
   "id": "88a512f3-3982-40ba-bf3f-f95281fd2248",
   "metadata": {
    "tags": []
   },
   "outputs": [],
   "source": [
    "# driver.find_element(By.XPATH, '//*[@id=\"main_pack\"]/div[3]/div[2]/div/div/div[1]/div/div/ul/li[3]/a').click()\n",
    "scrollable_div = driver.find_element(By.XPATH, '//*[@id=\"main_pack\"]/div[3]/div[2]/div/div/div[6]/div')"
   ]
  },
  {
   "cell_type": "code",
   "execution_count": null,
   "id": "6eeeaa08-d087-4406-8f3d-b1b59387892b",
   "metadata": {
    "tags": []
   },
   "outputs": [],
   "source": [
    "while True:\n",
    "    actions = ActionChains(driver)\n",
    "    actions.move_to_element(scrollable_div).perform()\n",
    "\n",
    "    last_scroll_top = driver.execute_script(\"return arguments[0].scrollTop;\", scrollable_div)\n",
    "\n",
    "    driver.execute_script(\"arguments[0].scrollTop += arguments[0].offsetHeight;\", scrollable_div)\n",
    "\n",
    "    new_scroll_top = driver.execute_script(\"return arguments[0].scrollTop;\", scrollable_div)\n",
    "\n",
    "    if new_scroll_top == last_scroll_top:\n",
    "        break"
   ]
  },
  {
   "cell_type": "code",
   "execution_count": null,
   "id": "f40601d6-0b62-4ab8-aca2-71d7d831c50c",
   "metadata": {
    "tags": []
   },
   "outputs": [],
   "source": [
    "i = 1\n",
    "last = []\n",
    "\n",
    "while True:\n",
    "    try:\n",
    "        driver.find_element(By.XPATH, f'//*[@id=\"main_pack\"]/div[3]/div[2]/div/div/div[6]/div/ul/li[{i}]/div[3]/button').click()\n",
    "    except:\n",
    "        pass\n",
    "\n",
    "    items = driver.find_elements(By.XPATH, f'//*[@id=\"main_pack\"]/div[3]/div[2]/div/div/div[6]/div/ul/li[{i}]/div[3]/span')\n",
    "    scores = driver.find_elements(By.XPATH, f'//*[@id=\"main_pack\"]/div[3]/div[2]/div/div/div[6]/div/ul/li[{i}]/div[2]/div[2]')\n",
    "\n",
    "    for j in items:\n",
    "        item = j.text\n",
    "\n",
    "    for j in scores:\n",
    "        score = float(j.text.split('\\n')[-1])\n",
    "\n",
    "    if last != [score, item]:\n",
    "        last = [score, item]\n",
    "        lst.append([name, score, item])\n",
    "        i += 1\n",
    "    else:\n",
    "        break"
   ]
  },
  {
   "cell_type": "code",
   "execution_count": null,
   "id": "b8a17596-9a91-4fed-9819-f208c4f70dfb",
   "metadata": {
    "tags": []
   },
   "outputs": [],
   "source": [
    "len(lst)"
   ]
  },
  {
   "cell_type": "code",
   "execution_count": null,
   "id": "9524620f-2c0c-4091-98bb-f1f28cbf1f38",
   "metadata": {},
   "outputs": [],
   "source": []
  },
  {
   "cell_type": "code",
   "execution_count": null,
   "id": "16ac8a8c-431f-4970-a567-a5f3dd5a173a",
   "metadata": {},
   "outputs": [],
   "source": []
  },
  {
   "cell_type": "markdown",
   "id": "3bc6c622-d696-4fc1-9ec3-d043929ccc49",
   "metadata": {
    "tags": []
   },
   "source": [
    "# 코난"
   ]
  },
  {
   "cell_type": "code",
   "execution_count": null,
   "id": "c15f3c16-92e9-4491-9b8c-037dbffa12cc",
   "metadata": {
    "tags": []
   },
   "outputs": [],
   "source": [
    "name = '코난'"
   ]
  },
  {
   "cell_type": "code",
   "execution_count": null,
   "id": "a7dc7685-2302-4700-a20f-b6e6a47315a4",
   "metadata": {
    "tags": []
   },
   "outputs": [],
   "source": [
    "# 2. 웹 페이지 열기\n",
    "driver.get('https://search.naver.com/search.naver?where=nexearch&sm=tab_etc&mra=bkEw&pkid=68&os=34212890&qvt=0&query=%EB%AA%85%ED%83%90%EC%A0%95%20%EC%BD%94%EB%82%9C%3A%20100%EB%A7%8C%20%EB%8B%AC%EB%9F%AC%EC%9D%98%20%ED%8E%9C%ED%83%80%EA%B7%B8%EB%9E%A8%20%EA%B4%80%EB%9E%8C%ED%8F%89')\n",
    "time.sleep(5)"
   ]
  },
  {
   "cell_type": "code",
   "execution_count": null,
   "id": "29d0a559-8a57-4c83-82d6-8003f04f6967",
   "metadata": {
    "tags": []
   },
   "outputs": [],
   "source": [
    "# 3. 스크롤할 특정 요소 찾기\n",
    "driver.find_element(By.XPATH, '//*[@id=\"main_pack\"]/div[3]/div[2]/div/div/div[4]/div[2]/div[2]/button').click()\n",
    "scrollable_div = driver.find_element(By.XPATH, '//*[@id=\"main_pack\"]/div[3]/div[2]/div/div/div[4]/div[4]')"
   ]
  },
  {
   "cell_type": "markdown",
   "id": "c58d7c18-375c-4ef9-bc4a-072faa2869c2",
   "metadata": {},
   "source": [
    "## 실관람객"
   ]
  },
  {
   "cell_type": "code",
   "execution_count": null,
   "id": "0012cff6-4285-4011-ad4d-0417f63b97e7",
   "metadata": {
    "tags": []
   },
   "outputs": [],
   "source": [
    "while True:\n",
    "    actions = ActionChains(driver)\n",
    "    actions.move_to_element(scrollable_div).perform()\n",
    "\n",
    "    last_scroll_top = driver.execute_script(\"return arguments[0].scrollTop;\", scrollable_div)\n",
    "\n",
    "    driver.execute_script(\"arguments[0].scrollTop += arguments[0].offsetHeight;\", scrollable_div)\n",
    "\n",
    "    new_scroll_top = driver.execute_script(\"return arguments[0].scrollTop;\", scrollable_div)\n",
    "\n",
    "    if new_scroll_top == last_scroll_top:\n",
    "        break"
   ]
  },
  {
   "cell_type": "code",
   "execution_count": null,
   "id": "eed9a1f3-bc3b-4075-bc39-763155dc8857",
   "metadata": {
    "tags": []
   },
   "outputs": [],
   "source": [
    "i = 1\n",
    "last = []\n",
    "\n",
    "while True:\n",
    "    try:\n",
    "        driver.find_element(By.XPATH, f'//*[@id=\"main_pack\"]/div[3]/div[2]/div/div/div[4]/div[4]/ul/li[{i}]/div[2]/div/button').click()\n",
    "    except Exception as e:\n",
    "        pass\n",
    "\n",
    "    items = scrollable_div.find_elements(By.XPATH, f'//*[@id=\"main_pack\"]/div[3]/div[2]/div/div/div[4]/div[4]/ul/li[{i}]/div[2]/div/span[2]')\n",
    "    scores = scrollable_div.find_elements(By.XPATH, f'//*[@id=\"main_pack\"]/div[3]/div[2]/div/div/div[4]/div[4]/ul/li[{i}]/div[1]/div/div[2]')\n",
    "\n",
    "    for j in items:\n",
    "        item = j.text\n",
    "        \n",
    "    for j in scores:\n",
    "        score = float(j.text.split('\\n')[-1])\n",
    "        \n",
    "    if last != [score, item]:\n",
    "        last = [score, item]\n",
    "        lst.append([name, score, item])\n",
    "        i += 1\n",
    "    else:\n",
    "        break"
   ]
  },
  {
   "cell_type": "markdown",
   "id": "3973bd43-88dd-48cf-b404-b813d1fe73dd",
   "metadata": {},
   "source": [
    "## 네티즌"
   ]
  },
  {
   "cell_type": "code",
   "execution_count": null,
   "id": "bc1fa079-5352-412c-8c8d-e4a15fc9f759",
   "metadata": {
    "tags": []
   },
   "outputs": [],
   "source": [
    "# driver.find_element(By.XPATH, '//*[@id=\"main_pack\"]/div[3]/div[2]/div/div/div[1]/div/div/ul/li[2]/a').click()\n",
    "driver.find_element(By.XPATH, '//*[@id=\"main_pack\"]/div[3]/div[2]/div/div/div[5]/div[2]/div[2]/button').click()\n",
    "scrollable_div = driver.find_element(By.XPATH, '//*[@id=\"main_pack\"]/div[3]/div[2]/div/div/div[5]/div[4]')"
   ]
  },
  {
   "cell_type": "code",
   "execution_count": null,
   "id": "4b932fb7-9350-4e05-8d34-39e0d28bda13",
   "metadata": {
    "tags": []
   },
   "outputs": [],
   "source": [
    "while True:\n",
    "    actions = ActionChains(driver)\n",
    "    actions.move_to_element(scrollable_div).perform()\n",
    "\n",
    "    last_scroll_top = driver.execute_script(\"return arguments[0].scrollTop;\", scrollable_div)\n",
    "\n",
    "    driver.execute_script(\"arguments[0].scrollTop += arguments[0].offsetHeight;\", scrollable_div)\n",
    "\n",
    "    new_scroll_top = driver.execute_script(\"return arguments[0].scrollTop;\", scrollable_div)\n",
    "\n",
    "    if new_scroll_top == last_scroll_top:\n",
    "        break"
   ]
  },
  {
   "cell_type": "code",
   "execution_count": null,
   "id": "b40bbdb8-454d-44e6-bf0f-fb0d4ca3a268",
   "metadata": {
    "tags": []
   },
   "outputs": [],
   "source": [
    "i = 1\n",
    "last = []\n",
    "\n",
    "while True:\n",
    "    try:\n",
    "        driver.find_element(By.XPATH, f'//*[@id=\"main_pack\"]/div[3]/div[2]/div/div/div[5]/div[4]/ul/li[{i}]/div[2]/div/button').click()\n",
    "    except:\n",
    "        pass\n",
    "\n",
    "    items = driver.find_elements(By.XPATH, f'//*[@id=\"main_pack\"]/div[3]/div[2]/div/div/div[5]/div[4]/ul/li[{i}]/div[2]/div/span')\n",
    "    scores = driver.find_elements(By.XPATH, f'//*[@id=\"main_pack\"]/div[3]/div[2]/div/div/div[5]/div[4]/ul/li[{i}]/div[1]/div/div[2]')\n",
    "\n",
    "    for j in items:\n",
    "        item = j.text\n",
    "\n",
    "    for j in scores:\n",
    "        score = float(j.text.split('\\n')[-1])\n",
    "\n",
    "    if last != [score, item]:\n",
    "        last = [score, item]\n",
    "        lst.append([name, score, item])\n",
    "        i += 1\n",
    "    else:\n",
    "        break"
   ]
  },
  {
   "cell_type": "markdown",
   "id": "519b34aa-07e3-440c-8441-a5f3eb800e35",
   "metadata": {},
   "source": [
    "## 평론가"
   ]
  },
  {
   "cell_type": "code",
   "execution_count": null,
   "id": "d03d4476-d36c-475e-bc5b-9593d920b6bf",
   "metadata": {
    "tags": []
   },
   "outputs": [],
   "source": [
    "# driver.find_element(By.XPATH, '//*[@id=\"main_pack\"]/div[3]/div[2]/div/div/div[1]/div/div/ul/li[3]/a').click()\n",
    "scrollable_div = driver.find_element(By.XPATH, '//*[@id=\"main_pack\"]/div[3]/div[2]/div/div/div[6]/div')"
   ]
  },
  {
   "cell_type": "code",
   "execution_count": null,
   "id": "118f224e-5a3a-4181-9a34-5256ef689925",
   "metadata": {
    "tags": []
   },
   "outputs": [],
   "source": [
    "while True:\n",
    "    actions = ActionChains(driver)\n",
    "    actions.move_to_element(scrollable_div).perform()\n",
    "\n",
    "    last_scroll_top = driver.execute_script(\"return arguments[0].scrollTop;\", scrollable_div)\n",
    "\n",
    "    driver.execute_script(\"arguments[0].scrollTop += arguments[0].offsetHeight;\", scrollable_div)\n",
    "\n",
    "    new_scroll_top = driver.execute_script(\"return arguments[0].scrollTop;\", scrollable_div)\n",
    "\n",
    "    if new_scroll_top == last_scroll_top:\n",
    "        break"
   ]
  },
  {
   "cell_type": "code",
   "execution_count": null,
   "id": "d584ba4c-724e-41ab-a0eb-d60b11c4d565",
   "metadata": {
    "tags": []
   },
   "outputs": [],
   "source": [
    "i = 1\n",
    "last = []\n",
    "\n",
    "while True:\n",
    "    try:\n",
    "        driver.find_element(By.XPATH, f'//*[@id=\"main_pack\"]/div[3]/div[2]/div/div/div[6]/div/ul/li[{i}]/div[3]/button').click()\n",
    "    except:\n",
    "        pass\n",
    "\n",
    "    items = driver.find_elements(By.XPATH, f'//*[@id=\"main_pack\"]/div[3]/div[2]/div/div/div[6]/div/ul/li[{i}]/div[3]/span')\n",
    "    scores = driver.find_elements(By.XPATH, f'//*[@id=\"main_pack\"]/div[3]/div[2]/div/div/div[6]/div/ul/li[{i}]/div[2]/div[2]')\n",
    "\n",
    "    for j in items:\n",
    "        item = j.text\n",
    "\n",
    "    for j in scores:\n",
    "        score = float(j.text.split('\\n')[-1])\n",
    "\n",
    "    if last != [score, item]:\n",
    "        last = [score, item]\n",
    "        lst.append([name, score, item])\n",
    "        i += 1\n",
    "    else:\n",
    "        break"
   ]
  },
  {
   "cell_type": "code",
   "execution_count": null,
   "id": "d209cb6c-754f-4a4e-93c5-48b6d5569c8c",
   "metadata": {
    "tags": []
   },
   "outputs": [],
   "source": [
    "len(lst)"
   ]
  },
  {
   "cell_type": "code",
   "execution_count": null,
   "id": "3d45536e-0e3f-44e8-aca9-da8ba364a155",
   "metadata": {},
   "outputs": [],
   "source": []
  },
  {
   "cell_type": "code",
   "execution_count": null,
   "id": "1cee880f-39e1-46d0-8c2d-e61a3d64712f",
   "metadata": {},
   "outputs": [],
   "source": []
  },
  {
   "cell_type": "code",
   "execution_count": null,
   "id": "43176677-a569-46d5-9448-4652530702df",
   "metadata": {},
   "outputs": [],
   "source": []
  },
  {
   "cell_type": "code",
   "execution_count": null,
   "id": "1d01b980-59c5-46e4-a995-db1b9bda98bf",
   "metadata": {
    "tags": []
   },
   "outputs": [],
   "source": [
    "import csv\n",
    "\n",
    "\n",
    "header = ['영화 제목', '평점', '리뷰']\n",
    "with open('review2.csv', 'w', newline='', encoding='utf-8') as file:\n",
    "    writer = csv.writer(file)\n",
    "    writer.writerow(header)\n",
    "    writer.writerows(lst)"
   ]
  },
  {
   "cell_type": "code",
   "execution_count": null,
   "id": "ed02f3af-9282-446d-b4a0-9be27d526ee1",
   "metadata": {},
   "outputs": [],
   "source": []
  }
 ],
 "metadata": {
  "kernelspec": {
   "display_name": "Python 3.11.9 64-bit",
   "language": "python",
   "name": "python3"
  },
  "language_info": {
   "codemirror_mode": {
    "name": "ipython",
    "version": 3
   },
   "file_extension": ".py",
   "mimetype": "text/x-python",
   "name": "python",
   "nbconvert_exporter": "python",
   "pygments_lexer": "ipython3",
   "version": "3.11.9"
  },
  "vscode": {
   "interpreter": {
    "hash": "eda941f6146b06ebf9565e8f3783eda4313cb1b91243f79a950d68217f26e0b7"
   }
  }
 },
 "nbformat": 4,
 "nbformat_minor": 5
}
